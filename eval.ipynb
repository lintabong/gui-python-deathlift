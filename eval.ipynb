{
 "cells": [
  {
   "cell_type": "code",
   "execution_count": 7,
   "metadata": {},
   "outputs": [],
   "source": [
    "from matplotlib import pyplot as plt\n",
    "import numpy as np\n",
    "import pandas as pd\n",
    "import seaborn as sns\n",
    "import tensorflow as tf\n",
    "import numpy\n",
    "import pandas\n",
    "import seaborn\n",
    "import tensorflow\n",
    "from scipy import stats\n",
    "\n",
    "from sklearn import metrics\n",
    "from sklearn.metrics import classification_report\n",
    "from sklearn import preprocessing\n",
    "\n",
    "import keras\n",
    "from keras.models import Sequential\n",
    "from keras.layers import Dense, Dropout, Reshape, GlobalAveragePooling1D, Conv1D, MaxPooling1D\n",
    "from keras import utils\n",
    "\n",
    "from keras.models import load_model"
   ]
  },
  {
   "cell_type": "code",
   "execution_count": 2,
   "metadata": {},
   "outputs": [],
   "source": [
    "def feature_normalize(dataset):\n",
    "\n",
    "    mu = np.mean(dataset, axis=0)\n",
    "    sigma = np.std(dataset, axis=0)\n",
    "    return (dataset - mu)/sigma\n",
    "\n",
    "# Not used right now\n",
    "def feature_normalize(dataset):\n",
    "\n",
    "    mu = np.mean(dataset, axis=0)\n",
    "    sigma = np.std(dataset, axis=0)\n",
    "    return (dataset - mu)/sigma\n",
    "\n",
    "def plot_axis(ax, x, y, title):\n",
    "\n",
    "    ax.plot(x, y)\n",
    "    ax.set_title(title)\n",
    "    ax.xaxis.set_visible(False)\n",
    "    ax.set_ylim([min(y) - np.std(y), max(y) + np.std(y)])\n",
    "    ax.set_xlim([min(x), max(x)])\n",
    "    ax.grid(True)\n",
    "\n",
    "def plot_kelas(kelas, data):\n",
    "\n",
    "    fig, (ax0) = plt.subplots(nrows=1,\n",
    "         figsize=(15, 10),\n",
    "         sharex=True)\n",
    "    plot_axis(ax0, data['id'], data['VMPressure'], 'VMPressure')\n",
    "    plt.subplots_adjust(hspace=0.2)\n",
    "    fig.suptitle(kelas)\n",
    "    plt.subplots_adjust(top=0.90)\n",
    "    plt.show()\n",
    "\n",
    "def create_segments_and_labels(df, time_steps, step, label_name):\n",
    "    # x, y, z acceleration as features\n",
    "    N_FEATURES = 1\n",
    "    # Number of steps to advance in each iteration (for me, it should always\n",
    "    # be equal to the time_steps in order to have no overlap between segments)\n",
    "    # step = time_steps\n",
    "    segments = []\n",
    "    labels = []\n",
    "    for i in range(0, len(df) - time_steps, step):\n",
    "        xs = df['vm_pressure'].values[i: i + time_steps]\n",
    "        # Retrieve the most often used label in this segment\n",
    "        # Check if the mode is a scalar and handle it accordingly\n",
    "        mode_result = stats.mode(df[label_name][i: i + time_steps])\n",
    "        # Fix: Check if mode_result.mode is a scalar or an array\n",
    "        label = mode_result.mode if np.isscalar(mode_result.mode) else mode_result.mode[0]\n",
    "        segments.append([xs])\n",
    "        labels.append(label)\n",
    "\n",
    "\n",
    "\n",
    "        # label = stats.mode(df[label_name][i: i + time_steps]).mode[0]\n",
    "        # segments.append([xs])\n",
    "        # labels.append(label)\n",
    "\n",
    "    # Bring the segments into a better shape\n",
    "    reshaped_segments = np.asarray(segments, dtype= np.float32).reshape(-1, time_steps, N_FEATURES)\n",
    "    labels = np.asarray(labels)\n",
    "\n",
    "    return reshaped_segments, labels"
   ]
  },
  {
   "cell_type": "code",
   "execution_count": 3,
   "metadata": {},
   "outputs": [
    {
     "name": "stdout",
     "output_type": "stream",
     "text": [
      "keras version  3.7.0\n"
     ]
    }
   ],
   "source": [
    "# Set some standard parameters upfront\n",
    "pd.options.display.float_format = '{:.1f}'.format\n",
    "sns.set() # Default seaborn look and feel\n",
    "plt.style.use('ggplot')\n",
    "print('keras version ', keras.__version__)\n",
    "\n",
    "\n",
    "LABELS = ['VM', 'Tanpa VM']\n",
    "TIME_PERIODS = 100\n",
    "STEP_DISTANCE = 1\n",
    "BATCH_SIZE = 400\n",
    "EPOCHS = 50\n",
    "LABEL_CLASS_ENCODED = 'class_encoded'"
   ]
  },
  {
   "cell_type": "code",
   "execution_count": 4,
   "metadata": {},
   "outputs": [
    {
     "data": {
      "text/html": [
       "<div>\n",
       "<style scoped>\n",
       "    .dataframe tbody tr th:only-of-type {\n",
       "        vertical-align: middle;\n",
       "    }\n",
       "\n",
       "    .dataframe tbody tr th {\n",
       "        vertical-align: top;\n",
       "    }\n",
       "\n",
       "    .dataframe thead th {\n",
       "        text-align: right;\n",
       "    }\n",
       "</style>\n",
       "<table border=\"1\" class=\"dataframe\">\n",
       "  <thead>\n",
       "    <tr style=\"text-align: right;\">\n",
       "      <th></th>\n",
       "      <th>id</th>\n",
       "      <th>class</th>\n",
       "      <th>vm_pressure</th>\n",
       "    </tr>\n",
       "  </thead>\n",
       "  <tbody>\n",
       "    <tr>\n",
       "      <th>0</th>\n",
       "      <td>10</td>\n",
       "      <td>1</td>\n",
       "      <td>125</td>\n",
       "    </tr>\n",
       "    <tr>\n",
       "      <th>1</th>\n",
       "      <td>10</td>\n",
       "      <td>1</td>\n",
       "      <td>130</td>\n",
       "    </tr>\n",
       "    <tr>\n",
       "      <th>2</th>\n",
       "      <td>10</td>\n",
       "      <td>1</td>\n",
       "      <td>155</td>\n",
       "    </tr>\n",
       "    <tr>\n",
       "      <th>3</th>\n",
       "      <td>10</td>\n",
       "      <td>1</td>\n",
       "      <td>143</td>\n",
       "    </tr>\n",
       "    <tr>\n",
       "      <th>4</th>\n",
       "      <td>10</td>\n",
       "      <td>1</td>\n",
       "      <td>108</td>\n",
       "    </tr>\n",
       "  </tbody>\n",
       "</table>\n",
       "</div>"
      ],
      "text/plain": [
       "   id  class  vm_pressure\n",
       "0  10      1          125\n",
       "1  10      1          130\n",
       "2  10      1          155\n",
       "3  10      1          143\n",
       "4  10      1          108"
      ]
     },
     "execution_count": 4,
     "metadata": {},
     "output_type": "execute_result"
    }
   ],
   "source": [
    "df = pd.read_csv('dataset.csv', header=None, names=['id', 'class', 'vm_pressure'])\n",
    "\n",
    "df.head()"
   ]
  },
  {
   "cell_type": "code",
   "execution_count": 5,
   "metadata": {},
   "outputs": [
    {
     "name": "stderr",
     "output_type": "stream",
     "text": [
      "C:\\Users\\atmatech\\AppData\\Local\\Temp\\ipykernel_9220\\983505379.py:7: SettingWithCopyWarning: \n",
      "A value is trying to be set on a copy of a slice from a DataFrame.\n",
      "Try using .loc[row_indexer,col_indexer] = value instead\n",
      "\n",
      "See the caveats in the documentation: https://pandas.pydata.org/pandas-docs/stable/user_guide/indexing.html#returning-a-view-versus-a-copy\n",
      "  df_train['vm_pressure'] = feature_normalize(df['vm_pressure'])\n"
     ]
    }
   ],
   "source": [
    "encoder = preprocessing.LabelEncoder()\n",
    "df[LABEL_CLASS_ENCODED] = encoder.fit_transform(df['class'].values.ravel())\n",
    "\n",
    "df_test = df[df['id'] > 20]\n",
    "df_train = df[df['id'] <= 20]\n",
    "\n",
    "df_train['vm_pressure'] = feature_normalize(df['vm_pressure'])\n",
    "x_train, y_train = create_segments_and_labels(df_train, TIME_PERIODS, STEP_DISTANCE, LABEL_CLASS_ENCODED)"
   ]
  },
  {
   "cell_type": "code",
   "execution_count": 6,
   "metadata": {},
   "outputs": [
    {
     "name": "stdout",
     "output_type": "stream",
     "text": [
      "[[-0.7836026 ]\n",
      " [-0.75649536]\n",
      " [-0.62095916]\n",
      " [-0.6860165 ]\n",
      " [-0.8757672 ]\n",
      " [-0.85950285]\n",
      " [-0.6860165 ]\n",
      " [-0.45831573]\n",
      " [-0.13845034]\n",
      " [ 0.13804346]\n",
      " [ 0.26273677]\n",
      " [ 0.33863702]\n",
      " [ 0.41453728]\n",
      " [ 0.4633303 ]\n",
      " [ 0.41453728]\n",
      " [ 0.40911585]\n",
      " [ 0.66392386]\n",
      " [ 0.78861713]\n",
      " [ 0.83741015]\n",
      " [ 0.9621035 ]\n",
      " [ 1.0217394 ]\n",
      " [ 1.0434252 ]\n",
      " [ 1.0651109 ]\n",
      " [ 1.0759538 ]\n",
      " [ 1.1030611 ]\n",
      " [ 1.113904  ]\n",
      " [ 1.0705324 ]\n",
      " [ 1.0434252 ]\n",
      " [ 1.0759538 ]\n",
      " [ 1.0705324 ]\n",
      " [ 1.005475  ]\n",
      " [ 1.0271609 ]\n",
      " [ 1.0108964 ]\n",
      " [ 1.0108964 ]\n",
      " [ 1.0108964 ]\n",
      " [ 1.005475  ]\n",
      " [ 1.0000536 ]\n",
      " [ 0.956682  ]\n",
      " [ 0.9946321 ]\n",
      " [ 0.956682  ]\n",
      " [ 0.9783678 ]\n",
      " [ 0.9892107 ]\n",
      " [ 0.98378927]\n",
      " [ 0.98378927]\n",
      " [ 0.9783678 ]\n",
      " [ 0.9458391 ]\n",
      " [ 0.8645174 ]\n",
      " [ 0.75066704]\n",
      " [ 0.701874  ]\n",
      " [ 0.6910311 ]\n",
      " [ 0.72898126]\n",
      " [ 0.7235598 ]\n",
      " [ 0.7235598 ]\n",
      " [ 0.6801882 ]\n",
      " [ 0.6693453 ]\n",
      " [ 0.65308094]\n",
      " [ 0.66392386]\n",
      " [ 0.69645256]\n",
      " [ 0.62597376]\n",
      " [ 0.56091636]\n",
      " [ 0.6042879 ]\n",
      " [ 0.59344506]\n",
      " [ 0.6097094 ]\n",
      " [ 0.6042879 ]\n",
      " [ 0.5988665 ]\n",
      " [ 0.5771807 ]\n",
      " [ 0.5554949 ]\n",
      " [ 0.43080163]\n",
      " [ 0.44706598]\n",
      " [ 0.44706598]\n",
      " [ 0.42538017]\n",
      " [ 0.45790887]\n",
      " [ 0.4850161 ]\n",
      " [ 0.495859  ]\n",
      " [ 0.5229662 ]\n",
      " [ 0.5554949 ]\n",
      " [ 0.61513084]\n",
      " [ 0.5771807 ]\n",
      " [ 0.5717593 ]\n",
      " [ 0.6368166 ]\n",
      " [ 0.6693453 ]\n",
      " [ 0.72898126]\n",
      " [ 0.7072954 ]\n",
      " [ 0.37658715]\n",
      " [-0.17097902]\n",
      " [-0.9137173 ]\n",
      " [-1.1847897 ]\n",
      " [-1.3040615 ]\n",
      " [-1.3420117 ]\n",
      " [-1.3420117 ]\n",
      " [-1.4070691 ]\n",
      " [-1.4450191 ]\n",
      " [-1.3691189 ]\n",
      " [-1.3691189 ]\n",
      " [-1.4612834 ]\n",
      " [-1.455862  ]\n",
      " [-1.4612834 ]\n",
      " [-1.4612834 ]\n",
      " [-1.4612834 ]\n",
      " [-1.4612834 ]]\n"
     ]
    }
   ],
   "source": [
    "print(x_train[0])"
   ]
  },
  {
   "cell_type": "code",
   "execution_count": 10,
   "metadata": {},
   "outputs": [
    {
     "name": "stderr",
     "output_type": "stream",
     "text": [
      "WARNING:absl:Compiled the loaded model, but the compiled metrics have yet to be built. `model.compile_metrics` will be empty until you train or evaluate the model.\n"
     ]
    }
   ],
   "source": [
    "model = load_model('model.h5')\n",
    "\n",
    "# model.summary()"
   ]
  },
  {
   "cell_type": "code",
   "execution_count": 14,
   "metadata": {},
   "outputs": [
    {
     "name": "stdout",
     "output_type": "stream",
     "text": [
      "\u001b[1m1/1\u001b[0m \u001b[32m━━━━━━━━━━━━━━━━━━━━\u001b[0m\u001b[37m\u001b[0m \u001b[1m0s\u001b[0m 62ms/step\n",
      "[[0.00519458 0.9989166 ]]\n"
     ]
    }
   ],
   "source": [
    "print(model.predict(numpy.array([x_train[0]])))"
   ]
  }
 ],
 "metadata": {
  "kernelspec": {
   "display_name": ".venv",
   "language": "python",
   "name": "python3"
  },
  "language_info": {
   "codemirror_mode": {
    "name": "ipython",
    "version": 3
   },
   "file_extension": ".py",
   "mimetype": "text/x-python",
   "name": "python",
   "nbconvert_exporter": "python",
   "pygments_lexer": "ipython3",
   "version": "3.11.0"
  }
 },
 "nbformat": 4,
 "nbformat_minor": 2
}
